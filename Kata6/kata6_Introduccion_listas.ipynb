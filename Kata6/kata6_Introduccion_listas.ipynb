{
 "cells": [
  {
   "cell_type": "markdown",
   "metadata": {},
   "source": [
    "# Ejercicio 1: Crear y usar listas"
   ]
  },
  {
   "cell_type": "code",
   "execution_count": 1,
   "metadata": {},
   "outputs": [
    {
     "name": "stdout",
     "output_type": "stream",
     "text": [
      "Pluton es el ultimo elemento\n"
     ]
    }
   ],
   "source": [
    "#Lista de planetas\n",
    "planetas = ['Mercurio', 'Venus', 'Tierra', 'Marte', 'Jupiter', 'Saturno', 'Urano', 'Neptuno']\n",
    "\n",
    "#Se agrega a pluton y visualizamos el ultimo elemento\n",
    "planetas.append('Pluton')\n",
    "print(planetas[-1], 'es el ultimo elemento')\n"
   ]
  },
  {
   "cell_type": "markdown",
   "metadata": {},
   "source": [
    "# Ejercicio 2:Datos de una lista"
   ]
  },
  {
   "cell_type": "code",
   "execution_count": 17,
   "metadata": {},
   "outputs": [
    {
     "name": "stdout",
     "output_type": "stream",
     "text": [
      "Los planetas cercanos al sol Venus\n",
      "['Mercurio']\n"
     ]
    }
   ],
   "source": [
    "#MOSTRAR PLANETAS MAS CERCANOS AL SOL QUE EL USUARIO INGRESO\n",
    "#Lista de planetas\n",
    "planetas = ['Mercurio', 'Venus', 'Tierra', 'Marte', 'Jupiter', 'Saturno', 'Urano', 'Neptuno']\n",
    "\n",
    "#Input\n",
    "entrada = input('Escribe el Nombre del Planeta,porfavor de capturar la primera letra en mayusculas :3')\n",
    "\n",
    "#Busqueda\n",
    "busqueda = planetas.index(entrada)\n",
    "\n",
    "#Impresion\n",
    "print('Los planetas cercanos al sol ' + entrada)\n",
    "print(planetas[0:busqueda])\n",
    "\n"
   ]
  },
  {
   "cell_type": "code",
   "execution_count": 12,
   "metadata": {},
   "outputs": [
    {
     "name": "stdout",
     "output_type": "stream",
     "text": [
      "Los planetas alejados del sol Saturno\n",
      "['Urano', 'Neptuno']\n"
     ]
    }
   ],
   "source": [
    "#MOSTRAR PLANETAS MAS ALEJADO DEL SOL QUE EL USUARIO INGRESO\n",
    "#Lista de planetas\n",
    "planetas = ['Mercurio', 'Venus', 'Tierra', 'Marte', 'Jupiter', 'Saturno', 'Urano', 'Neptuno']\n",
    "\n",
    "#Input\n",
    "entrada = input('Escribe el Nombre del Planeta,porfavor de capturar la primera letra en mayusculas :3')\n",
    "\n",
    "#Busqueda\n",
    "busqueda = planetas.index(entrada)\n",
    "\n",
    "#Impresion\n",
    "print('Los planetas alejados del sol ' + entrada)\n",
    "print(planetas[busqueda + 1:])"
   ]
  }
 ],
 "metadata": {
  "interpreter": {
   "hash": "e0ef4017aa81a0811d26d7b5c793955b9c2fb6e1fb837a95e6a74f9a5479949c"
  },
  "kernelspec": {
   "display_name": "Python 3.10.2 64-bit",
   "language": "python",
   "name": "python3"
  },
  "language_info": {
   "codemirror_mode": {
    "name": "ipython",
    "version": 3
   },
   "file_extension": ".py",
   "mimetype": "text/x-python",
   "name": "python",
   "nbconvert_exporter": "python",
   "pygments_lexer": "ipython3",
   "version": "3.10.2"
  },
  "orig_nbformat": 4
 },
 "nbformat": 4,
 "nbformat_minor": 2
}
