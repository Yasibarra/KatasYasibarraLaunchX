{
 "cells": [
  {
   "cell_type": "markdown",
   "metadata": {},
   "source": [
    "# Ejercicio 1: Bucle \"while\""
   ]
  },
  {
   "cell_type": "code",
   "execution_count": 3,
   "metadata": {},
   "outputs": [
    {
     "name": "stdout",
     "output_type": "stream",
     "text": [
      "tierra\n",
      "marte\n",
      "prueba\n"
     ]
    }
   ],
   "source": [
    "# Variables\n",
    "new_planet= ''\n",
    "planets=[]\n",
    "\n",
    "#Ciclo while\n",
    "while new_planet.lower() != 'pluton':\n",
    "    if new_planet:\n",
    "        planets.append(new_planet)\n",
    "        print(new_planet)\n",
    "       \n",
    "    \n",
    "    new_planet = input('Nuevo nombre del planeta')\n"
   ]
  },
  {
   "cell_type": "markdown",
   "metadata": {},
   "source": [
    "# Ejercicio 2: Ciclo \"for\""
   ]
  },
  {
   "cell_type": "code",
   "execution_count": 41,
   "metadata": {},
   "outputs": [
    {
     "name": "stdout",
     "output_type": "stream",
     "text": [
      "Mercurio\n",
      "Venus\n",
      "Tierra\n",
      "Marte\n",
      "Jupiter\n",
      "Saturno\n",
      "Urano\n",
      "Neptuno\n"
     ]
    }
   ],
   "source": [
    "#Planetas: Mercurio,Venus,Tierra,Marte,Jupiter,Saturno,Urano,Neptuno,Pluton\n",
    "#Variables\n",
    "planets=[]\n",
    "\n",
    "\n",
    "for planet in range(8):\n",
    "    nombre=input(\"¿Cómo se llaman los planetas del Sistema Solar?\")\n",
    "    planets.append(nombre)\n",
    "for p in range(8):\n",
    "    print(planets[p])\n",
    "\n",
    "\n",
    "\n",
    "\n",
    "\n",
    "\n"
   ]
  }
 ],
 "metadata": {
  "interpreter": {
   "hash": "e0ef4017aa81a0811d26d7b5c793955b9c2fb6e1fb837a95e6a74f9a5479949c"
  },
  "kernelspec": {
   "display_name": "Python 3.10.2 64-bit",
   "language": "python",
   "name": "python3"
  },
  "language_info": {
   "codemirror_mode": {
    "name": "ipython",
    "version": 3
   },
   "file_extension": ".py",
   "mimetype": "text/x-python",
   "name": "python",
   "nbconvert_exporter": "python",
   "pygments_lexer": "ipython3",
   "version": "3.10.2"
  },
  "orig_nbformat": 4
 },
 "nbformat": 4,
 "nbformat_minor": 2
}
