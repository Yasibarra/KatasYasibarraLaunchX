{
 "cells": [
  {
   "cell_type": "markdown",
   "metadata": {},
   "source": [
    "# Ejercicio 1: Declaraciones if,else y elif"
   ]
  },
  {
   "cell_type": "code",
   "execution_count": 7,
   "metadata": {},
   "outputs": [
    {
     "name": "stdout",
     "output_type": "stream",
     "text": [
      "Nos destruiran a todos :o!!\n"
     ]
    }
   ],
   "source": [
    "# Un asteroide se acerca, y viaja a una velocidad de 49 km/s. , alertar si se acerca o no a la tierr\n",
    "velocidad = 49 #km/s\n",
    "if velocidad > 25:\n",
    "    print('Nos destruiran a todos :o!!')\n",
    "else:\n",
    "    print('Nos hemos salvado,estamos agradecidos :D')"
   ]
  },
  {
   "cell_type": "code",
   "execution_count": 14,
   "metadata": {},
   "outputs": [
    {
     "name": "stdout",
     "output_type": "stream",
     "text": [
      "A no Es super man! :P\n"
     ]
    }
   ],
   "source": [
    "# Alertar a las personas de todo el mundo que deben buscar un asteroide en el cielo. ¡Hay uno que se dirige a la tierra ahora a una velocidad de 19 km/s!\n",
    "velocidad = 19 #km/s\n",
    "if velocidad > 20:\n",
    "    print('Miren arriba,es el fin del mundo!')\n",
    "elif velocidad == 20:\n",
    "    print('Miren arriba,es el fin del mundo!')\n",
    "else:\n",
    "    print('A no Es super man! :P')"
   ]
  },
  {
   "cell_type": "markdown",
   "metadata": {},
   "source": [
    "# Ejercicio 2: Operadores and y or"
   ]
  },
  {
   "cell_type": "code",
   "execution_count": 28,
   "metadata": {},
   "outputs": [
    {
     "name": "stdout",
     "output_type": "stream",
     "text": [
      "Peligro,peligro! viene un asteroide y hara pum!\n"
     ]
    }
   ],
   "source": [
    "# Los asteroides de menos de 25 metros en su dimensión más grande probablemente se quemarán a medida que entren en la atmósfera de la Tierra.\n",
    "# Si una pieza de un asteroide que es más grande que 25 metros pero más pequeña que 1000 metros golpeara la Tierra, causaría mucho daño.\n",
    "# La velocidad del asteroide varía en función de lo cerca que esté del sol, y cualquier velocidad superior a 25 kilómetros por segundo (km/s) merece una advertencia.\n",
    "# Si un asteroide entra en la atmósfera de la Tierra a una velocidad mayor o igual a 20 km/s, a veces produce un rayo de luz que se puede ver desde la Tierra.\n",
    "\n",
    "velocidad = 50 #km/s\n",
    "tamano =  80 #m\n",
    "if velocidad > 25 and tamano > 25:\n",
    "    print('Peligro,peligro! viene un asteroide y hara pum!')\n",
    "elif velocidad >= 20:\n",
    "    print('Nos destruiran a todos :o')\n",
    "elif tamano < 25:\n",
    "    print('Tu no has visto nada ;P')\n",
    "else:\n",
    "    print('Tu no has visto nada ;P')\n"
   ]
  }
 ],
 "metadata": {
  "interpreter": {
   "hash": "e0ef4017aa81a0811d26d7b5c793955b9c2fb6e1fb837a95e6a74f9a5479949c"
  },
  "kernelspec": {
   "display_name": "Python 3.10.2 64-bit",
   "language": "python",
   "name": "python3"
  },
  "language_info": {
   "codemirror_mode": {
    "name": "ipython",
    "version": 3
   },
   "file_extension": ".py",
   "mimetype": "text/x-python",
   "name": "python",
   "nbconvert_exporter": "python",
   "pygments_lexer": "ipython3",
   "version": "3.10.2"
  },
  "orig_nbformat": 4
 },
 "nbformat": 4,
 "nbformat_minor": 2
}
