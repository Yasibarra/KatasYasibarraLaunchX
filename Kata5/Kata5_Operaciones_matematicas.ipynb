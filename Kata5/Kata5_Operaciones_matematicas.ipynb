{
 "cells": [
  {
   "cell_type": "markdown",
   "metadata": {},
   "source": [
    "# Ejercicio 1: Operadores aritmeticos"
   ]
  },
  {
   "cell_type": "code",
   "execution_count": 2,
   "metadata": {},
   "outputs": [
    {
     "name": "stdout",
     "output_type": "stream",
     "text": [
      "628949330\n",
      "390577533.93\n"
     ]
    }
   ],
   "source": [
    "# variables\n",
    "tierra = 149597870 #km\n",
    "jupiter = 778547200 #km\n",
    "\n",
    "#Calculo de distancia en kilometros\n",
    "distancia_km = jupiter - tierra\n",
    "print(distancia_km)\n",
    "#Calculo de conversion distancia kilometros en millas\n",
    "millas = distancia_km * 0.621\n",
    "print(millas)"
   ]
  },
  {
   "cell_type": "markdown",
   "metadata": {},
   "source": [
    "# Ejercicio 2: Conversion de cadenas en numeros y uso de valores absolutos"
   ]
  },
  {
   "cell_type": "code",
   "execution_count": 6,
   "metadata": {},
   "outputs": [
    {
     "name": "stdout",
     "output_type": "stream",
     "text": [
      "4386900000\n",
      "2724264900.0\n"
     ]
    }
   ],
   "source": [
    "#Inputs de entradas\n",
    "entrada_uno = input('Cual es la distancia del sol para el primer planeta en km')\n",
    "entrada_dos = input('Cual la distancia desde el sol para el segundo planeta en km')\n",
    "\n",
    "#Convertir las cadenas de ambos planetas a números enteros\n",
    "entrada_uno = int(entrada_uno)\n",
    "entrada_dos = int(entrada_dos)\n",
    "\n",
    "#Cálculo y determinar el valor absoluto\n",
    "distancia_km = entrada_dos - entrada_uno\n",
    "print(distancia_km)\n",
    "\n",
    "#Calculo de conversion distancia kilometros en millas\n",
    "millas = distancia_km * 0.621\n",
    "print(millas)"
   ]
  }
 ],
 "metadata": {
  "interpreter": {
   "hash": "e0ef4017aa81a0811d26d7b5c793955b9c2fb6e1fb837a95e6a74f9a5479949c"
  },
  "kernelspec": {
   "display_name": "Python 3.10.2 64-bit",
   "language": "python",
   "name": "python3"
  },
  "language_info": {
   "codemirror_mode": {
    "name": "ipython",
    "version": 3
   },
   "file_extension": ".py",
   "mimetype": "text/x-python",
   "name": "python",
   "nbconvert_exporter": "python",
   "pygments_lexer": "ipython3",
   "version": "3.10.2"
  },
  "orig_nbformat": 4
 },
 "nbformat": 4,
 "nbformat_minor": 2
}
