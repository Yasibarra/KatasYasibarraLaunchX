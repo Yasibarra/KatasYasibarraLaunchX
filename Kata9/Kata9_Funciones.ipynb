{
  "cells": [
    {
      "cell_type": "markdown",
      "metadata": {},
      "source": [
        "# Ejercucio 1: Uso de funciones en Python \n",
        "  Trabajar con argumentos en funciones"
      ]
    },
    {
      "cell_type": "code",
      "execution_count": 2,
      "metadata": {},
      "outputs": [
        {
          "name": "stdout",
          "output_type": "stream",
          "text": [
            "Resultado del informe:\n",
            "    Tanque 1: 100%\n",
            "    Tanque 2: 60%\n",
            "    Tanque 3: 150% \n",
            "    Total promedio: 103.33333333333333%\n",
            "    \n"
          ]
        }
      ],
      "source": [
        "#Funcion de leer 3 tanques de combustibles y muestre promedio\n",
        "def informe(tanque_com1, tanque_com2, tanque_com3):\n",
        "    total_promedio = (tanque_com1 + tanque_com2+ tanque_com3) / 3\n",
        "    return f\"\"\"Resultado del informe:\n",
        "    Tanque 1: {tanque_com1}%\n",
        "    Tanque 2: {tanque_com2}%\n",
        "    Tanque 3: {tanque_com3}% \n",
        "    Total promedio: {total_promedio}%\n",
        "    \"\"\"\n",
        "\n",
        "#Llamada de función que genera el reporte print(funcion(tanque1, tanque2, tanque3))\n",
        "print(informe(100, 60, 150))"
      ]
    },
    {
      "cell_type": "code",
      "execution_count": 8,
      "metadata": {},
      "outputs": [
        {
          "data": {
            "text/plain": [
              "103.33333333333333"
            ]
          },
          "execution_count": 8,
          "metadata": {},
          "output_type": "execute_result"
        }
      ],
      "source": [
        "#Funcion promedio\n",
        "def promedio(values):\n",
        "    total = sum(values)\n",
        "    numbero_tanques = len(values)\n",
        "    return total / numbero_tanques\n",
        "\n",
        "#Impresion de la funcion\n",
        "promedio([100, 60, 150]) "
      ]
    },
    {
      "cell_type": "code",
      "execution_count": 9,
      "metadata": {},
      "outputs": [
        {
          "name": "stdout",
          "output_type": "stream",
          "text": [
            "Resultado del informe:\n",
            "    Tanque 1: 100%\n",
            "    Tanque 2: 60%\n",
            "    Tanque 3: 150% \n",
            "    Total promedio: 103.33333333333333%\n",
            "    \n"
          ]
        }
      ],
      "source": [
        "#Actualizacion funcion\n",
        "def informe(tanque_com1, tanque_com2, tanque_com3):\n",
        "    return f\"\"\"Resultado del informe:\n",
        "    Tanque 1: {tanque_com1}%\n",
        "    Tanque 2: {tanque_com2}%\n",
        "    Tanque 3: {tanque_com3}% \n",
        "    Total promedio: {promedio([tanque_com1, tanque_com2, tanque_com3])}%\n",
        "    \"\"\"\n",
        "#Impresion de la actualizacion de la funcion\n",
        "print(informe(100, 60, 150))"
      ]
    },
    {
      "cell_type": "markdown",
      "metadata": {},
      "source": [
        "# Ejercicio 2: Trabajo con argumentos de palabra\n",
        "Trabajar con argumentos de palabras clave en funciones"
      ]
    },
    {
      "cell_type": "code",
      "execution_count": 5,
      "metadata": {},
      "outputs": [
        {
          "name": "stdout",
          "output_type": "stream",
          "text": [
            "\n",
            "    Destino de la misión: Jupiter\n",
            "    Total de viaje: 80 min.\n",
            "    Combustible total: 950000 gal.\n",
            "    \n"
          ]
        }
      ],
      "source": [
        "# Función con un informe preciso de la misión. Considera hora de prelanzamiento, tiempo de vuelo, destino, tanque externo y tanque interno\n",
        "def reporte(pre_lanzamiento, tiempo_vuelo, destino, tanq_externo, tanque_interno):\n",
        "    return f\"\"\"\n",
        "    Destino de la misión: {destino}\n",
        "    Total de viaje: {pre_lanzamiento + tiempo_vuelo} min.\n",
        "    Combustible total: {tanq_externo + tanque_interno} gal.\n",
        "    \"\"\"\n",
        "\n",
        "print(reporte(20, 60, \"Jupiter\", 350000, 600000))\n"
      ]
    },
    {
      "cell_type": "code",
      "execution_count": 8,
      "metadata": {},
      "outputs": [
        {
          "name": "stdout",
          "output_type": "stream",
          "text": [
            "\n",
            "    Destino de la misión: Jupiter\n",
            "    Total de viaje: 95 min\n",
            "    Combustible total: 950000\n",
            "    \n"
          ]
        }
      ],
      "source": [
        "# Nueva funcion de acuerdo a lo anterior\n",
        "def reporte(destino, *minutos, **combustible):\n",
        "    return f\"\"\"\n",
        "    Destino de la misión: {destino}\n",
        "    Total de viaje: {sum(minutos)} min\n",
        "    Combustible total: {sum(combustible.values())}\n",
        "    \"\"\"\n",
        "\n",
        "print(reporte(\"Jupiter\", 15, 20, 60, c1=350000, c2=600000))\n"
      ]
    },
    {
      "cell_type": "code",
      "execution_count": 18,
      "metadata": {},
      "outputs": [
        {
          "name": "stdout",
          "output_type": "stream",
          "text": [
            "\n",
            "    Destino de la misión: Jupiter\n",
            "    Total de viaje: 95 min\n",
            "    Combustible total: 950000\n",
            "    Nombre del tanque: c1  --> Capacidad de galones: 350000 \n",
            "Nombre del tanque: c2  --> Capacidad de galones: 600000 \n",
            "\n"
          ]
        }
      ],
      "source": [
        "#Nueva función\n",
        "def reporte(destino, *minutos, **combustible):\n",
        "    informe = f\"\"\"\n",
        "    Destino de la misión: {destino}\n",
        "    Total de viaje: {sum(minutos)} min\n",
        "    Combustible total: {sum(combustible.values())}\n",
        "    \"\"\"\n",
        "    for nombre_tanq, galones in combustible.items():\n",
        "        informe += f\"Nombre del tanque: {nombre_tanq}  --> Capacidad de galones: {galones} \\n\"\n",
        "    return informe\n",
        "\n",
        "print(reporte(\"Jupiter\", 15, 20, 60, c1=350000, c2=600000))"
      ]
    }
  ],
  "metadata": {
    "interpreter": {
      "hash": "e0ef4017aa81a0811d26d7b5c793955b9c2fb6e1fb837a95e6a74f9a5479949c"
    },
    "kernelspec": {
      "display_name": "Python 3.10.2 64-bit",
      "language": "python",
      "name": "python3"
    },
    "language_info": {
      "codemirror_mode": {
        "name": "ipython",
        "version": 3
      },
      "file_extension": ".py",
      "mimetype": "text/x-python",
      "name": "python",
      "nbconvert_exporter": "python",
      "pygments_lexer": "ipython3",
      "version": "3.10.2"
    },
    "orig_nbformat": 4
  },
  "nbformat": 4,
  "nbformat_minor": 2
}
